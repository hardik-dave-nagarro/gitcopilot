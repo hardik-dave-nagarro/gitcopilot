{
 "cells": [
  {
   "cell_type": "code",
   "execution_count": 4,
   "metadata": {},
   "outputs": [
    {
     "name": "stdout",
     "output_type": "stream",
     "text": [
      "Defaulting to user installation because normal site-packages is not writeableNote: you may need to restart the kernel to use updated packages.\n"
     ]
    },
    {
     "name": "stderr",
     "output_type": "stream",
     "text": [
      "\n",
      "[notice] A new release of pip available: 22.3.1 -> 23.1.2\n",
      "[notice] To update, run: python.exe -m pip install --upgrade pip\n"
     ]
    },
    {
     "name": "stdout",
     "output_type": "stream",
     "text": [
      "\n",
      "Requirement already satisfied: pyspark in c:\\users\\hardikdave\\appdata\\roaming\\python\\python311\\site-packages (3.4.0)\n",
      "Requirement already satisfied: py4j==0.10.9.7 in c:\\users\\hardikdave\\appdata\\roaming\\python\\python311\\site-packages (from pyspark) (0.10.9.7)\n"
     ]
    }
   ],
   "source": [
    "#import pyspark library\n",
    "\n",
    "%pip install pyspark\n",
    "\n",
    "\n",
    "\n",
    "\n",
    "\n",
    "\n",
    "\n",
    " \n",
    "\n"
   ]
  },
  {
   "cell_type": "code",
   "execution_count": null,
   "metadata": {},
   "outputs": [],
   "source": [
    "import pyspark\n",
    "from pyspark.sql import SparkSession\n",
    "from pyspark.sql.functions import when\n",
    "from pyspark.sql.functions import col\n",
    "from pyspark.sql.functions import lit\n",
    "\n",
    "#Define spark session\n",
    "from pyspark.sql import SparkSession\n",
    "spark = SparkSession.builder.appName(\"Spark\").getOrCreate()\n",
    "\n",
    "#read csv file using pyspark code and convert into dataframe\n",
    "df = spark.read.csv(\"C:/Users/HP/Desktop/Spark/employee.csv\",header=True,  inferSchema=True)\n",
    "df.show()\n",
    "\n",
    "#Add column to dataframe using withColumn where salary is greater than 3000 put  Yes else No\n",
    "df.withColumn(\"salary\",when(df.salary > 3000,\"Yes\").otherwise(\"No\")).show()\n",
    "\n",
    "#agrregate salary of those employees whose Hire_date is greater than 2005-01-01\n",
    "df.filter(df.Hire_date > \"2005-01-01\").groupBy().sum(\"salary\").show()\n",
    "\n",
    "#validate column Phone_number\n",
    "    # df.filter(df.Phone_number.rlike(\"^[0-9]{3}-[0-9]{3}-[0-9]{4}$\")).show()\n",
    "\n",
    "#All manager_id whose salary is greater than 7000\n"
   ]
  }
 ],
 "metadata": {
  "kernelspec": {
   "display_name": "Python 3",
   "language": "python",
   "name": "python3"
  },
  "language_info": {
   "codemirror_mode": {
    "name": "ipython",
    "version": 3
   },
   "file_extension": ".py",
   "mimetype": "text/x-python",
   "name": "python",
   "nbconvert_exporter": "python",
   "pygments_lexer": "ipython3",
   "version": "3.11.3"
  },
  "orig_nbformat": 4
 },
 "nbformat": 4,
 "nbformat_minor": 2
}
